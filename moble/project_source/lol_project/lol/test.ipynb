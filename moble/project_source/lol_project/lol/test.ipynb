{
 "cells": [
  {
   "cell_type": "code",
   "execution_count": 1,
   "metadata": {},
   "outputs": [
    {
     "name": "stderr",
     "output_type": "stream",
     "text": [
      "C:\\Users\\dnjsw\\Anaconda3\\lib\\site-packages\\h5py\\__init__.py:36: FutureWarning: Conversion of the second argument of issubdtype from `float` to `np.floating` is deprecated. In future, it will be treated as `np.float64 == np.dtype(float).type`.\n",
      "  from ._conv import register_converters as _register_converters\n"
     ]
    }
   ],
   "source": [
    "import tensorflow as tf\n",
    "import numpy as np #배열 처리를 위해 사용"
   ]
  },
  {
   "cell_type": "code",
   "execution_count": 2,
   "metadata": {
    "scrolled": false
   },
   "outputs": [],
   "source": [
    "#테스트 실험\n",
    "X = tf.placeholder(tf.float32, shape=[None,10], name=\"X1\") #4개의 변인이 담길수 있게\n",
    "Y = tf.placeholder(tf.float32, shape=[None,1] , name=\"Y1\") \n",
    "W = tf.Variable(tf.random_normal([10,1]), name=\"weight\") #가중치\n",
    "b = tf.Variable(tf.random_normal([1]), name=\"bias\") #bias 값\n",
    "\n",
    "hypothesis = tf.matmul(X,W , name=\"operation\") +b \n",
    "\n",
    "#저장된것을 가져오기 위한 객체 초기화\n",
    "saver = tf.train.Saver()\n",
    "model= tf.global_variables_initializer()\n",
    "\n"
   ]
  },
  {
   "cell_type": "code",
   "execution_count": 3,
   "metadata": {},
   "outputs": [
    {
     "name": "stdout",
     "output_type": "stream",
     "text": [
      "top : 1\n",
      "jg : 1\n",
      "mid : 1\n",
      "ad : 1\n",
      "sup : 1\n",
      "e_top: 1\n",
      "e_jg: 1\n",
      "e_mid: 1\n",
      "e_ad: 1\n",
      "e_sup: 1\n"
     ]
    }
   ],
   "source": [
    "#사용자로부터 10가지 변수를 입력 받음\n",
    "top= float(input('top : '))\n",
    "jg = float(input('jg : '))\n",
    "mid = float(input('mid : '))\n",
    "ad = float(input('ad : '))\n",
    "sup = float(input('sup : '))\n",
    "\n",
    "e_top= float(input('e_top: '))\n",
    "e_jg = float(input('e_jg: '))\n",
    "e_mid = float(input('e_mid: '))\n",
    "e_ad = float(input('e_ad: '))\n",
    "e_sup = float(input('e_sup: '))\n"
   ]
  },
  {
   "cell_type": "code",
   "execution_count": 8,
   "metadata": {},
   "outputs": [
    {
     "name": "stdout",
     "output_type": "stream",
     "text": [
      "INFO:tensorflow:Restoring parameters from ./save/20_1.saved.cpkt\n",
      "[467.5728]\n"
     ]
    }
   ],
   "source": [
    "with tf.Session() as sess:\n",
    "    sess.run(model)\n",
    "    \n",
    "    save_path=\"./save/20_1.saved.cpkt\"\n",
    "    saver.restore(sess,save_path) #해당 세션에 저장된 학습 모델을 불러올수 있도록 함\n",
    "    \n",
    "    #기존에 학습된 데이터가 2차원 배열이기 때문에 맞추어 줘야 한다.\n",
    "    data = ((top, jg, mid, ad, sup, e_top, e_jg, e_mid, e_ad, e_sup), )\n",
    "    \n",
    "    #사용자가 입력한 데이터를 토대로 행렬로 초기화를 해주고\n",
    "    arr = np.array(data, dtype=np.float32)\n",
    "    \n",
    "    x_data = arr[0:10]\n",
    "    #입력한 데이터를 X에 담아서 모델을 돌려보았다\n",
    "    dict = sess.run(hypothesis, feed_dict={X: x_data})\n",
    "    \n",
    "    #데이터를 하나만 넣었기 때문에 출력은 하나만 하면 된다.\n",
    "    print(dict[0])\n",
    "    save_path = saver.save(sess,\"./save/test1.saved.cpkt\")\n",
    "    saver = tf.train.Saver()\n",
    "    #학습모델 이용에 있어서 최적화 등의 요소는 고려하지 않고 단순하게 세이버를 이용해서 학습된 모델을 추출하는방법\n"
   ]
  },
  {
   "cell_type": "code",
   "execution_count": 5,
   "metadata": {},
   "outputs": [
    {
     "ename": "RuntimeError",
     "evalue": "Attempted to use a closed Session.",
     "output_type": "error",
     "traceback": [
      "\u001b[1;31m---------------------------------------------------------------------------\u001b[0m",
      "\u001b[1;31mRuntimeError\u001b[0m                              Traceback (most recent call last)",
      "\u001b[1;32m<ipython-input-5-e40e7b976986>\u001b[0m in \u001b[0;36m<module>\u001b[1;34m()\u001b[0m\n\u001b[0;32m      7\u001b[0m \u001b[0msaver\u001b[0m \u001b[1;33m=\u001b[0m \u001b[0mtf\u001b[0m\u001b[1;33m.\u001b[0m\u001b[0mtrain\u001b[0m\u001b[1;33m.\u001b[0m\u001b[0mSaver\u001b[0m\u001b[1;33m(\u001b[0m\u001b[1;33m)\u001b[0m\u001b[1;33m\u001b[0m\u001b[0m\n\u001b[0;32m      8\u001b[0m \u001b[1;31m#학습모델 이용에 있어서 최적화 등의 요소는 고려하지 않고 단순하게 세이버를 이용해서 학습된 모델을 추출하는방법\u001b[0m\u001b[1;33m\u001b[0m\u001b[1;33m\u001b[0m\u001b[0m\n\u001b[1;32m----> 9\u001b[1;33m \u001b[0msave_path\u001b[0m \u001b[1;33m=\u001b[0m \u001b[0msaver\u001b[0m\u001b[1;33m.\u001b[0m\u001b[0msave\u001b[0m\u001b[1;33m(\u001b[0m\u001b[0msess\u001b[0m\u001b[1;33m,\u001b[0m\u001b[1;34m\"./save/test.saved.cpkt\"\u001b[0m\u001b[1;33m)\u001b[0m\u001b[1;33m\u001b[0m\u001b[0m\n\u001b[0m\u001b[0;32m     10\u001b[0m \u001b[0mprint\u001b[0m\u001b[1;33m(\u001b[0m\u001b[1;34m\"학습된 모델을 저장했습니다.\"\u001b[0m\u001b[1;33m)\u001b[0m\u001b[1;33m\u001b[0m\u001b[0m\n",
      "\u001b[1;32m~\\Anaconda3\\lib\\site-packages\\tensorflow\\python\\training\\saver.py\u001b[0m in \u001b[0;36msave\u001b[1;34m(self, sess, save_path, global_step, latest_filename, meta_graph_suffix, write_meta_graph, write_state, strip_default_attrs)\u001b[0m\n\u001b[0;32m   1439\u001b[0m           model_checkpoint_path = sess.run(\n\u001b[0;32m   1440\u001b[0m               \u001b[0mself\u001b[0m\u001b[1;33m.\u001b[0m\u001b[0msaver_def\u001b[0m\u001b[1;33m.\u001b[0m\u001b[0msave_tensor_name\u001b[0m\u001b[1;33m,\u001b[0m\u001b[1;33m\u001b[0m\u001b[0m\n\u001b[1;32m-> 1441\u001b[1;33m               {self.saver_def.filename_tensor_name: checkpoint_file})\n\u001b[0m\u001b[0;32m   1442\u001b[0m \u001b[1;33m\u001b[0m\u001b[0m\n\u001b[0;32m   1443\u001b[0m         \u001b[0mmodel_checkpoint_path\u001b[0m \u001b[1;33m=\u001b[0m \u001b[0mcompat\u001b[0m\u001b[1;33m.\u001b[0m\u001b[0mas_str\u001b[0m\u001b[1;33m(\u001b[0m\u001b[0mmodel_checkpoint_path\u001b[0m\u001b[1;33m)\u001b[0m\u001b[1;33m\u001b[0m\u001b[0m\n",
      "\u001b[1;32m~\\Anaconda3\\lib\\site-packages\\tensorflow\\python\\client\\session.py\u001b[0m in \u001b[0;36mrun\u001b[1;34m(self, fetches, feed_dict, options, run_metadata)\u001b[0m\n\u001b[0;32m    927\u001b[0m     \u001b[1;32mtry\u001b[0m\u001b[1;33m:\u001b[0m\u001b[1;33m\u001b[0m\u001b[0m\n\u001b[0;32m    928\u001b[0m       result = self._run(None, fetches, feed_dict, options_ptr,\n\u001b[1;32m--> 929\u001b[1;33m                          run_metadata_ptr)\n\u001b[0m\u001b[0;32m    930\u001b[0m       \u001b[1;32mif\u001b[0m \u001b[0mrun_metadata\u001b[0m\u001b[1;33m:\u001b[0m\u001b[1;33m\u001b[0m\u001b[0m\n\u001b[0;32m    931\u001b[0m         \u001b[0mproto_data\u001b[0m \u001b[1;33m=\u001b[0m \u001b[0mtf_session\u001b[0m\u001b[1;33m.\u001b[0m\u001b[0mTF_GetBuffer\u001b[0m\u001b[1;33m(\u001b[0m\u001b[0mrun_metadata_ptr\u001b[0m\u001b[1;33m)\u001b[0m\u001b[1;33m\u001b[0m\u001b[0m\n",
      "\u001b[1;32m~\\Anaconda3\\lib\\site-packages\\tensorflow\\python\\client\\session.py\u001b[0m in \u001b[0;36m_run\u001b[1;34m(self, handle, fetches, feed_dict, options, run_metadata)\u001b[0m\n\u001b[0;32m   1073\u001b[0m     \u001b[1;31m# Check session.\u001b[0m\u001b[1;33m\u001b[0m\u001b[1;33m\u001b[0m\u001b[0m\n\u001b[0;32m   1074\u001b[0m     \u001b[1;32mif\u001b[0m \u001b[0mself\u001b[0m\u001b[1;33m.\u001b[0m\u001b[0m_closed\u001b[0m\u001b[1;33m:\u001b[0m\u001b[1;33m\u001b[0m\u001b[0m\n\u001b[1;32m-> 1075\u001b[1;33m       \u001b[1;32mraise\u001b[0m \u001b[0mRuntimeError\u001b[0m\u001b[1;33m(\u001b[0m\u001b[1;34m'Attempted to use a closed Session.'\u001b[0m\u001b[1;33m)\u001b[0m\u001b[1;33m\u001b[0m\u001b[0m\n\u001b[0m\u001b[0;32m   1076\u001b[0m     \u001b[1;32mif\u001b[0m \u001b[0mself\u001b[0m\u001b[1;33m.\u001b[0m\u001b[0mgraph\u001b[0m\u001b[1;33m.\u001b[0m\u001b[0mversion\u001b[0m \u001b[1;33m==\u001b[0m \u001b[1;36m0\u001b[0m\u001b[1;33m:\u001b[0m\u001b[1;33m\u001b[0m\u001b[0m\n\u001b[0;32m   1077\u001b[0m       raise RuntimeError('The Session graph is empty.  Add operations to the '\n",
      "\u001b[1;31mRuntimeError\u001b[0m: Attempted to use a closed Session."
     ]
    }
   ],
   "source": [
    "#학습된 모델을 저장하는 방법\n",
    "#- 배추 가격:  [1404.1737]\n",
    "# 10975000  손실 비용:  91622480.0\n",
    "#- 배추 가격:  [1404.1737]\n",
    "\n",
    "#간단한 방법이라서 간단한 프로젝트를 만들때는 요긴하게 사용된다.\n",
    "saver = tf.train.Saver()\n",
    "#학습모델 이용에 있어서 최적화 등의 요소는 고려하지 않고 단순하게 세이버를 이용해서 학습된 모델을 추출하는방법\n",
    "save_path = saver.save(sess,\"./save/test.saved.cpkt\")\n",
    "print(\"학습된 모델을 저장했습니다.\")"
   ]
  },
  {
   "cell_type": "code",
   "execution_count": null,
   "metadata": {},
   "outputs": [],
   "source": []
  }
 ],
 "metadata": {
  "kernelspec": {
   "display_name": "Python 3",
   "language": "python",
   "name": "python3"
  },
  "language_info": {
   "codemirror_mode": {
    "name": "ipython",
    "version": 3
   },
   "file_extension": ".py",
   "mimetype": "text/x-python",
   "name": "python",
   "nbconvert_exporter": "python",
   "pygments_lexer": "ipython3",
   "version": "3.6.4"
  }
 },
 "nbformat": 4,
 "nbformat_minor": 2
}
